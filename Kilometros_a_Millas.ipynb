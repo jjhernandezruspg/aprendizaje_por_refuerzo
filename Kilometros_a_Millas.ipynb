{
  "nbformat": 4,
  "nbformat_minor": 0,
  "metadata": {
    "colab": {
      "provenance": [],
      "authorship_tag": "ABX9TyP4etG2ulF56BnEKIhHUbag",
      "include_colab_link": true
    },
    "kernelspec": {
      "name": "python3",
      "display_name": "Python 3"
    },
    "language_info": {
      "name": "python"
    }
  },
  "cells": [
    {
      "cell_type": "markdown",
      "metadata": {
        "id": "view-in-github",
        "colab_type": "text"
      },
      "source": [
        "<a href=\"https://colab.research.google.com/github/jjhernandezruspg/aprendizaje_por_refuerzo/blob/main/Kilometros_a_Millas.ipynb\" target=\"_parent\"><img src=\"https://colab.research.google.com/assets/colab-badge.svg\" alt=\"Open In Colab\"/></a>"
      ]
    },
    {
      "cell_type": "code",
      "execution_count": 29,
      "metadata": {
        "id": "kMJ3XcngV5OA"
      },
      "outputs": [],
      "source": [
        "import tensorflow as tf\n",
        "import numpy as np\n",
        "import matplotlib.pyplot as plt"
      ]
    },
    {
      "cell_type": "code",
      "source": [
        "kilometers = np.array([0, 1, 5, 10, 20, 50, 100, 200, 500, 1000], dtype=float)\n",
        "miles = np.array([0, 0.621371, 3.106855, 6.21371, 12.42742, 31.06855, 62.1371, 124.2742, 310.6855, 621.371], dtype=float)"
      ],
      "metadata": {
        "id": "-41M3OKfWDOs"
      },
      "execution_count": 30,
      "outputs": []
    },
    {
      "cell_type": "code",
      "source": [
        "modelo = tf.keras.Sequential([\n",
        "    tf.keras.layers.Dense(units=16, input_shape=[1], activation='linear'),\n",
        "    tf.keras.layers.Dense(units=8, activation='linear'),\n",
        "    tf.keras.layers.Dense(units=1, activation='linear')\n",
        "])"
      ],
      "metadata": {
        "colab": {
          "base_uri": "https://localhost:8080/"
        },
        "id": "3Hn48zLDW7I-",
        "outputId": "b1601bfe-067a-423e-eff7-6b528034c871"
      },
      "execution_count": 31,
      "outputs": [
        {
          "output_type": "stream",
          "name": "stderr",
          "text": [
            "/usr/local/lib/python3.12/dist-packages/keras/src/layers/core/dense.py:93: UserWarning: Do not pass an `input_shape`/`input_dim` argument to a layer. When using Sequential models, prefer using an `Input(shape)` object as the first layer in the model instead.\n",
            "  super().__init__(activity_regularizer=activity_regularizer, **kwargs)\n"
          ]
        }
      ]
    },
    {
      "cell_type": "code",
      "source": [
        "modelo.compile(\n",
        "    optimizer=tf.keras.optimizers.Adam(0.1),\n",
        "    loss='mean_squared_error'\n",
        ")"
      ],
      "metadata": {
        "id": "5gxwCqQxWfaT"
      },
      "execution_count": 32,
      "outputs": []
    },
    {
      "cell_type": "code",
      "source": [
        "print(\"Comenzando entrenamiento...\")\n",
        "historial = modelo.fit(kilometers, miles, epochs=1000, verbose=False)\n",
        "print(\"Modelo entrenado!\")"
      ],
      "metadata": {
        "colab": {
          "base_uri": "https://localhost:8080/"
        },
        "id": "MrGPZBqjWiu7",
        "outputId": "801c305f-bb28-44c7-a192-282171eb612e"
      },
      "execution_count": 33,
      "outputs": [
        {
          "output_type": "stream",
          "name": "stdout",
          "text": [
            "Comenzando entrenamiento...\n",
            "Modelo entrenado!\n"
          ]
        }
      ]
    },
    {
      "cell_type": "code",
      "source": [
        "plt.xlabel(\"# Epoca\")\n",
        "plt.ylabel(\"Magnitud de pérdida\")\n",
        "plt.plot(historial.history[\"loss\"])"
      ],
      "metadata": {
        "colab": {
          "base_uri": "https://localhost:8080/",
          "height": 467
        },
        "id": "Vam0plGqWmXD",
        "outputId": "a29d0b2d-55d9-415e-ffb9-2be426f4460b"
      },
      "execution_count": 34,
      "outputs": [
        {
          "output_type": "execute_result",
          "data": {
            "text/plain": [
              "[<matplotlib.lines.Line2D at 0x7855517924e0>]"
            ]
          },
          "metadata": {},
          "execution_count": 34
        },
        {
          "output_type": "display_data",
          "data": {
            "text/plain": [
              "<Figure size 640x480 with 1 Axes>"
            ],
            "image/png": "[encoded data removed]"
          },
          "metadata": {}
        }
      ]
    },
    {
      "cell_type": "code",
      "source": [
        "print(\"Hagamos una predicción!\")\n",
        "entrada = np.array([1000], dtype=np.float32)\n",
        "resultado = modelo.predict(entrada)\n",
        "print(\"El resultado es: \" + str(resultado) + \" millas.\")"
      ],
      "metadata": {
        "colab": {
          "base_uri": "https://localhost:8080/"
        },
        "id": "drmWl272Wpgf",
        "outputId": "3dba2523-1683-49b9-e340-bee0e2ca25d6"
      },
      "execution_count": 35,
      "outputs": [
        {
          "output_type": "stream",
          "name": "stdout",
          "text": [
            "Hagamos una predicción!\n",
            "\u001b[1m1/1\u001b[0m \u001b[32m━━━━━━━━━━━━━━━━━━━━\u001b[0m\u001b[37m\u001b[0m \u001b[1m0s\u001b[0m 113ms/step\n",
            "El resultado es: [[621.37103]] millas.\n"
          ]
        }
      ]
    },
    {
      "cell_type": "code",
      "source": [
        "print(\"Variables internas del modelo\")\n",
        "print(modelo.get_weights())"
      ],
      "metadata": {
        "colab": {
          "base_uri": "https://localhost:8080/"
        },
        "id": "M6VQqK-BWxMu",
        "outputId": "028a32e9-c5b2-4440-ac44-7a9fea8018d8"
      },
      "execution_count": 36,
      "outputs": [
        {
          "output_type": "stream",
          "name": "stdout",
          "text": [
            "Variables internas del modelo\n",
            "[array([[ 0.14645809,  0.39312193,  0.37976137, -0.0399835 , -0.00334604,\n",
            "        -0.18396619,  0.28680077, -0.13574491, -0.12875289, -0.12969257,\n",
            "        -0.12025491, -0.05866765,  0.03710247,  0.2248002 , -0.23751242,\n",
            "        -0.30356202]], dtype=float32), array([ 0.11604422,  0.2537559 ,  0.29965818, -0.4236605 , -0.07273243,\n",
            "       -0.14717002,  0.5911516 ,  0.42447233, -0.41332665,  0.41139695,\n",
            "       -0.26563415,  0.44064844,  0.18621393,  0.45665827, -0.25041333,\n",
            "       -0.38736477], dtype=float32), array([[ 0.16246207, -0.8194136 , -0.04034857, -0.09531432,  0.7401587 ,\n",
            "        -0.68345344, -0.4427203 , -0.43788028],\n",
            "       [ 0.06942216, -1.0062776 , -0.35803488, -0.20227732, -0.0610218 ,\n",
            "         0.02919659, -0.12754327, -0.5761882 ],\n",
            "       [-0.07889638, -0.53606755, -0.5733323 , -0.4037727 , -0.11108683,\n",
            "        -0.32618707, -0.29706982, -0.11511645],\n",
            "       [ 0.8884297 ,  0.05522451, -0.07036545, -0.25138262, -0.19931446,\n",
            "         0.5287626 ,  0.03210618, -0.02445027],\n",
            "       [-0.3288558 , -0.67963326, -0.30794173,  0.2259352 ,  0.30984542,\n",
            "        -0.5363764 , -0.5188532 ,  0.1088765 ],\n",
            "       [ 0.17545992,  0.88995373,  0.3002001 , -0.27336872, -0.19679646,\n",
            "         0.4130452 ,  0.41128632, -0.155219  ],\n",
            "       [-0.6354824 , -0.12656587, -0.62017334, -0.09583697, -0.08948109,\n",
            "        -0.59158427, -0.62058127, -0.21902353],\n",
            "       [-0.6874584 , -0.48531327, -0.4839564 ,  0.74660623,  0.5003337 ,\n",
            "        -0.25488335, -0.3605138 ,  0.31549463],\n",
            "       [-0.07432385,  0.06778466, -0.00403227, -0.5444983 , -0.28102335,\n",
            "        -0.03242889,  0.22927862, -0.00284471],\n",
            "       [ 0.04418775, -0.0490272 , -0.1604452 ,  1.0074067 ,  0.07686739,\n",
            "        -0.6927429 , -0.16698796, -0.25201318],\n",
            "       [ 0.47185838,  0.63401854,  0.29834142, -0.6197536 , -0.37499607,\n",
            "         0.2511908 ,  0.38039538,  0.39179158],\n",
            "       [-0.6086518 , -0.6626706 , -0.28014845,  0.31952026,  0.66406006,\n",
            "        -0.2665942 , -0.04139574,  0.3340027 ],\n",
            "       [-0.22326732,  0.50896317,  0.93364507, -0.13358325, -0.40651703,\n",
            "         0.43313518,  0.03773494,  0.13912751],\n",
            "       [-0.54925954, -0.23727594, -0.5694066 ,  0.15176584,  0.12309191,\n",
            "        -0.26185548, -0.6128576 ,  0.14307453],\n",
            "       [-0.10281902,  0.53027517,  0.2135134 , -0.59808105, -0.68181795,\n",
            "         0.32330418,  0.14826742,  0.7494234 ],\n",
            "       [ 0.30870336,  0.02857885,  0.20284967, -0.03389882,  0.12849212,\n",
            "        -0.02118704,  0.5508829 ,  0.5158137 ]], dtype=float32), array([ 0.41556948,  0.43905863,  0.38957492, -0.58096987, -0.44573092,\n",
            "        0.4395765 ,  0.38005918,  0.4148623 ], dtype=float32), array([[ 0.10320207],\n",
            "       [-0.29600477],\n",
            "       [-0.13128169],\n",
            "       [-0.07367715],\n",
            "       [-0.14210705],\n",
            "       [ 0.0421197 ],\n",
            "       [-0.20044705],\n",
            "       [-0.1551205 ]], dtype=float32), array([-0.4006696], dtype=float32)]\n"
          ]
        }
      ]
    }
  ]
}